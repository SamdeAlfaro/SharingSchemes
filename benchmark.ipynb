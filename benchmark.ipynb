{
 "cells": [
  {
   "cell_type": "code",
   "execution_count": 2,
   "metadata": {},
   "outputs": [],
   "source": [
    "import time\n",
    "from feldmansecretsharing import FeldmanVerifiableSecretSharing\n",
    "from asmuthbloomsharing import AsmuthBloom\n",
    "from blakleysecretsharing import BlakleySecretSharing\n",
    "from pedersenscheme import PedersenSecretSharing\n",
    "from shamirsecretsharing import ShamirSecretSharing"
   ]
  },
  {
   "cell_type": "code",
   "execution_count": 26,
   "metadata": {},
   "outputs": [],
   "source": [
    "import matplotlib.pyplot as plt\n",
    "import numpy as np"
   ]
  },
  {
   "cell_type": "code",
   "execution_count": 3,
   "metadata": {},
   "outputs": [],
   "source": [
    "secret = 123456789\n",
    "threshold = 3\n",
    "num_shares = 5"
   ]
  },
  {
   "cell_type": "code",
   "execution_count": 33,
   "metadata": {},
   "outputs": [],
   "source": [
    "def benchmark(name, split_func, verify_func, reconstruct_func, num_iterations=10000):\n",
    "    print(f\"\\nBenchmarking {name}...\")\n",
    "\n",
    "    # Store the times for each subsection over all iterations\n",
    "    split_times = []\n",
    "    verify_times = []\n",
    "    reconstruct_times = []\n",
    "\n",
    "    for _ in range(num_iterations):\n",
    "        start_total = time.perf_counter()\n",
    "\n",
    "        # Split phase\n",
    "        start = time.perf_counter()\n",
    "        shares, metadata = split_func()\n",
    "        end = time.perf_counter()\n",
    "        split_times.append(end - start)\n",
    "\n",
    "        # Verification phase\n",
    "        if verify_func is not None:\n",
    "            start = time.perf_counter()\n",
    "            for share in shares:\n",
    "                verify_func(share, metadata)\n",
    "            end = time.perf_counter()\n",
    "            verify_times.append(end - start)\n",
    "        else:\n",
    "            verify_times.append(0)  # No verification phase if function is None\n",
    "\n",
    "        # Reconstruction phase\n",
    "        start = time.perf_counter()\n",
    "        if metadata is not None:\n",
    "            reconstruct_func((shares, metadata))\n",
    "        else:\n",
    "            reconstruct_func(shares)\n",
    "        end = time.perf_counter()\n",
    "        reconstruct_times.append(end - start)\n",
    "\n",
    "        end_total = time.perf_counter()\n",
    "\n",
    "    # Calculate average times\n",
    "    avg_split_time = np.mean(split_times)\n",
    "    avg_verify_time = np.mean(verify_times)\n",
    "    avg_reconstruct_time = np.mean(reconstruct_times)\n",
    "\n",
    "    print(f\"Average Split time: {avg_split_time:.6f} seconds\")\n",
    "    print(f\"Average Verification time: {avg_verify_time:.6f} seconds\")\n",
    "    print(f\"Average Reconstruction time: {avg_reconstruct_time:.6f} seconds\")\n",
    "\n",
    "    return avg_split_time, avg_verify_time, avg_reconstruct_time"
   ]
  },
  {
   "cell_type": "code",
   "execution_count": 19,
   "metadata": {},
   "outputs": [],
   "source": [
    "\n",
    "### Feldman\n",
    "feldman = FeldmanVerifiableSecretSharing(threshold=threshold, num_shares=num_shares)\n",
    "\n",
    "def feldman_split():\n",
    "    shares, commitments = feldman.split(secret)\n",
    "    return shares, commitments\n",
    "\n",
    "def feldman_verify(share, commitments):\n",
    "    x, y = share\n",
    "    feldman.verify_share(x, y, commitments)\n",
    "\n",
    "def feldman_reconstruct(input_val):\n",
    "    # Accept either a list of shares or a tuple (shares, metadata)\n",
    "    if isinstance(input_val, tuple):\n",
    "        shares, _ = input_val\n",
    "    else:\n",
    "        shares = input_val\n",
    "    return feldman.reconstruct(shares[:threshold])\n"
   ]
  },
  {
   "cell_type": "code",
   "execution_count": 11,
   "metadata": {},
   "outputs": [],
   "source": [
    "### Asmuth-Bloom\n",
    "def ab_split():\n",
    "    ab = AsmuthBloom(n_holders=num_shares, min_holder=threshold, secret=secret, verbose=False)\n",
    "    return ab.get_holders(), ab\n",
    "\n",
    "def ab_reconstruct(holders_and_ab):\n",
    "    holders, ab = holders_and_ab\n",
    "    # Inject holders into ab to make sure solve() uses them\n",
    "    ab.holders = holders\n",
    "    ab.solve()"
   ]
  },
  {
   "cell_type": "code",
   "execution_count": 7,
   "metadata": {},
   "outputs": [],
   "source": [
    "### Blakley\n",
    "blakley = BlakleySecretSharing(threshold=threshold, num_shares=num_shares)\n",
    "\n",
    "def blakley_split():\n",
    "    shares = blakley.split(secret)\n",
    "    return shares, None\n",
    "\n",
    "def blakley_reconstruct(shares):\n",
    "    blakley.reconstruct(shares[:threshold])"
   ]
  },
  {
   "cell_type": "code",
   "execution_count": 23,
   "metadata": {},
   "outputs": [],
   "source": [
    "### Pedersen\n",
    "pedersen = PedersenSecretSharing(threshold=threshold, num_shares=num_shares)\n",
    "\n",
    "def pedersen_split():\n",
    "    shares, commitments = pedersen.split(secret)\n",
    "    return shares, commitments\n",
    "\n",
    "def pedersen_verify(share, commitments):\n",
    "    x, s, r = share\n",
    "    pedersen.verify_share(x, s, r, commitments)\n",
    "\n",
    "def pedersen_reconstruct(shares_and_commitments):\n",
    "    shares, _ = shares_and_commitments\n",
    "    pedersen.reconstruct([(x, s) for x, s, r in shares[:threshold]])"
   ]
  },
  {
   "cell_type": "code",
   "execution_count": 9,
   "metadata": {},
   "outputs": [],
   "source": [
    "### Shamir\n",
    "sss = ShamirSecretSharing(threshold=threshold, num_shares=num_shares, bit_length=256)\n",
    "\n",
    "def shamir_split():\n",
    "    shares = sss.split(secret)\n",
    "    return shares, None\n",
    "\n",
    "def shamir_reconstruct(shares):\n",
    "    sss.reconstruct(shares[:threshold])"
   ]
  },
  {
   "cell_type": "code",
   "execution_count": 34,
   "metadata": {},
   "outputs": [
    {
     "name": "stdout",
     "output_type": "stream",
     "text": [
      "\n",
      "Benchmarking Feldman...\n",
      "Average Split time: 0.000376 seconds\n",
      "Average Verification time: 0.000877 seconds\n",
      "Average Reconstruction time: 0.000008 seconds\n",
      "\n",
      "Benchmarking Asmuth-Bloom...\n",
      "Average Split time: 0.000119 seconds\n",
      "Average Verification time: 0.000000 seconds\n",
      "Average Reconstruction time: 0.000020 seconds\n",
      "\n",
      "Benchmarking Blakley...\n",
      "Average Split time: 0.000088 seconds\n",
      "Average Verification time: 0.000000 seconds\n",
      "Average Reconstruction time: 0.000080 seconds\n",
      "\n",
      "Benchmarking Pedersen...\n",
      "Average Split time: 0.000930 seconds\n",
      "Average Verification time: 0.001743 seconds\n",
      "Average Reconstruction time: 0.000009 seconds\n",
      "\n",
      "Benchmarking Shamir...\n",
      "Average Split time: 0.000050 seconds\n",
      "Average Verification time: 0.000000 seconds\n",
      "Average Reconstruction time: 0.000126 seconds\n"
     ]
    }
   ],
   "source": [
    "feldman_split_time, feldman_verify_time, feldman_reconstruct_time = benchmark(\"Feldman\", feldman_split, feldman_verify, feldman_reconstruct)\n",
    "ab_split_time, ab_verify_time, ab_reconstruct_time = benchmark(\"Asmuth-Bloom\", ab_split, None, ab_reconstruct)\n",
    "blakley_split_time, blakley_verify_time, blakley_reconstruct_time = benchmark(\"Blakley\", blakley_split, None, blakley_reconstruct)\n",
    "pedersen_split_time, pedersen_verify_time, pedersen_reconstruct_time = benchmark(\"Pedersen\", pedersen_split, pedersen_verify, pedersen_reconstruct)\n",
    "shamir_split_time, shamir_verify_time, shamir_reconstruct_time = benchmark(\"Shamir\", shamir_split, None, shamir_reconstruct)"
   ]
  },
  {
   "cell_type": "code",
   "execution_count": 35,
   "metadata": {},
   "outputs": [
    {
     "data": {
      "image/png": "[encoded data removed]",
      "text/plain": [
       "<Figure size 1000x600 with 1 Axes>"
      ]
     },
     "metadata": {},
     "output_type": "display_data"
    }
   ],
   "source": [
    "labels = [\"Feldman\", \"Asmuth-Bloom\", \"Blakley\", \"Pedersen\", \"Shamir\"]\n",
    "split_data = [feldman_split_time, ab_split_time, blakley_split_time, pedersen_split_time, shamir_split_time]\n",
    "verify_data = [feldman_verify_time, ab_verify_time, blakley_verify_time, pedersen_verify_time, shamir_verify_time]\n",
    "reconstruct_data = [feldman_reconstruct_time, ab_reconstruct_time, blakley_reconstruct_time, pedersen_reconstruct_time, shamir_reconstruct_time]\n",
    "\n",
    "# Create a stacked bar chart\n",
    "fig, ax = plt.subplots(figsize=(10, 6))\n",
    "\n",
    "x = np.arange(len(labels))\n",
    "bar_width = 0.5\n",
    "\n",
    "ax.bar(x, split_data, bar_width, label=\"Split\")\n",
    "ax.bar(x, verify_data, bar_width, bottom=split_data, label=\"Verify\")\n",
    "ax.bar(x, reconstruct_data, bar_width, bottom=np.array(split_data) + np.array(verify_data), label=\"Reconstruct\")\n",
    "\n",
    "# Add labels, title, and ticks\n",
    "ax.set_xlabel('Secret Sharing Scheme')\n",
    "ax.set_ylabel('Average Time (seconds)')\n",
    "ax.set_title('Benchmarking Secret Sharing Schemes')\n",
    "ax.set_xticks(x)\n",
    "ax.set_xticklabels(labels)\n",
    "ax.legend()\n",
    "\n",
    "plt.tight_layout()\n",
    "plt.show()"
   ]
  }
 ],
 "metadata": {
  "kernelspec": {
   "display_name": "venv",
   "language": "python",
   "name": "python3"
  },
  "language_info": {
   "codemirror_mode": {
    "name": "ipython",
    "version": 3
   },
   "file_extension": ".py",
   "mimetype": "text/x-python",
   "name": "python",
   "nbconvert_exporter": "python",
   "pygments_lexer": "ipython3",
   "version": "3.11.3"
  },
  "orig_nbformat": 4,
  "vscode": {
   "interpreter": {
    "hash": "6e2985843a5f50e3d12c89935cc16f102366ecfb7963803980ce0cfc7c7b89a3"
   }
  }
 },
 "nbformat": 4,
 "nbformat_minor": 2
}
